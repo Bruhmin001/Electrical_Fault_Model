{
 "cells": [
  {
   "cell_type": "code",
   "execution_count": 1,
   "metadata": {},
   "outputs": [
    {
     "name": "stderr",
     "output_type": "stream",
     "text": [
      "/home/codespace/.python/current/lib/python3.10/site-packages/sklearn/base.py:376: InconsistentVersionWarning: Trying to unpickle estimator MultiOutputClassifier from version 1.2.2 when using version 1.4.0. This might lead to breaking code or invalid results. Use at your own risk. For more info please refer to:\n",
      "https://scikit-learn.org/stable/model_persistence.html#security-maintainability-limitations\n",
      "  warnings.warn(\n"
     ]
    }
   ],
   "source": [
    "import pickle\n",
    "\n",
    "# Load the model from the pickle file\n",
    "with open('model.pkl', 'rb') as model_file:\n",
    "    model = pickle.load(model_file)"
   ]
  },
  {
   "cell_type": "code",
   "execution_count": 2,
   "metadata": {},
   "outputs": [],
   "source": [
    "import numpy as np"
   ]
  },
  {
   "cell_type": "code",
   "execution_count": 5,
   "metadata": {},
   "outputs": [
    {
     "name": "stdout",
     "output_type": "stream",
     "text": [
      "\n",
      "------Output-----\n",
      "\n"
     ]
    },
    {
     "data": {
      "text/plain": [
       "array([[0, 1, 0, 0, 1]])"
      ]
     },
     "execution_count": 5,
     "metadata": {},
     "output_type": "execute_result"
    }
   ],
   "source": [
    "# G = float(input(\"Enter load of line\\t\"))\n",
    "# C = float(input(\"Enter load of line\\t\"))\n",
    "# B = float(input(\"Enter Frequency\\t\"))\n",
    "# A = float(input(\"Enter load of line\\t\"))\n",
    "Ia = float(input(\"Enter load of line\\t\"))\n",
    "Ib = float(input(\"Enter load of line\\t\"))\n",
    "Ic = float(input(\"Enter load of line\\t\"))\n",
    "Va = float(input(\"Enter load of line\\t\"))\n",
    "Vb = float(input(\"Enter load of line\\t\"))\n",
    "Vc = float(input(\"Enter load of line\\t\"))\n",
    "\t\t\n",
    "\n",
    "    \n",
    "samp = np.array([[float(Ia), float(Ib), float(Ic), float(Va), float(Vb), float(Vc)]])\n",
    "res = model.predict(samp)\n",
    "print(\"\\n------Output-----\\n\")\n",
    "\n",
    "if res == -1:\n",
    "    print(\"Low Fault\")\n",
    "elif res == 0:\n",
    "    print(\"Medium Fault\")\n",
    "else:\n",
    "    print(\"High Fault\")"
   ]
  }
 ],
 "metadata": {
  "kernelspec": {
   "display_name": "Python 3",
   "language": "python",
   "name": "python3"
  },
  "language_info": {
   "codemirror_mode": {
    "name": "ipython",
    "version": 3
   },
   "file_extension": ".py",
   "mimetype": "text/x-python",
   "name": "python",
   "nbconvert_exporter": "python",
   "pygments_lexer": "ipython3",
   "version": "3.10.13"
  }
 },
 "nbformat": 4,
 "nbformat_minor": 2
}
