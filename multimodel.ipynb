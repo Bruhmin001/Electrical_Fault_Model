{
 "cells": [
  {
   "cell_type": "code",
   "execution_count": 1,
   "metadata": {},
   "outputs": [
    {
     "name": "stderr",
     "output_type": "stream",
     "text": [
      "/home/codespace/.python/current/lib/python3.10/site-packages/sklearn/base.py:376: InconsistentVersionWarning: Trying to unpickle estimator MultiOutputClassifier from version 1.2.2 when using version 1.4.0. This might lead to breaking code or invalid results. Use at your own risk. For more info please refer to:\n",
      "https://scikit-learn.org/stable/model_persistence.html#security-maintainability-limitations\n",
      "  warnings.warn(\n"
     ]
    }
   ],
   "source": [
    "import pickle\n",
    "\n",
    "# Load the model from the pickle file\n",
    "with open('model.pkl', 'rb') as model_file:\n",
    "    model = pickle.load(model_file)"
   ]
  },
  {
   "cell_type": "code",
   "execution_count": 2,
   "metadata": {},
   "outputs": [],
   "source": [
    "import numpy as np"
   ]
  },
  {
   "cell_type": "code",
   "execution_count": 5,
   "metadata": {},
   "outputs": [
    {
     "name": "stdout",
     "output_type": "stream",
     "text": [
      "\n",
      "------Output-----\n",
      "\n"
     ]
    },
    {
     "data": {
      "text/plain": [
       "array([[0, 1, 0, 0, 1]])"
      ]
     },
     "execution_count": 5,
     "metadata": {},
     "output_type": "execute_result"
    }
   ],
   "source": [
    "Ia = float(input(\"Line Current of Phase A\\t\"))\n",
    "Ib = float(input(\"Line Current of Phase B\\t\"))\n",
    "Ic = float(input(\"Line Current of Phase C\\t\"))\n",
    "Va = float(input(\"Line Voltage of Phase A\\t\"))\n",
    "Vb = float(input(\"Line Voltage of Phase B\\t\"))\n",
    "Vc = float(input(\"Line Voltage of Phase C\\t\"))\n",
    "\t\t\n",
    "\n",
    "    \n",
    "samp = np.array([[float(Ia), float(Ib), float(Ic), float(Va), float(Vb), float(Vc)]])\n",
    "res = model.predict(samp)\n",
    "print(\"\\n------Output-----\\n\")\n",
    "\n",
    "if res[0] == 0:\n",
    "    print(\"Line A Line B Line C\")\n",
    "elif res[0] == 1:\n",
    "    print(\"Line A Line B Line C to Ground Fault\")\n",
    "elif res[0] == 2:\n",
    "    print(\"Line A Line B to Ground Fault\")\n",
    "elif res[0] == 3:\n",
    "    print(\"Line A to Ground Fault\")\n",
    "elif res[0] == 4:\n",
    "    print(\"Line B to Line C Fault\") \n",
    "elif res[0] == 5:\n",
    "    print(\"NO Fault\")   \n",
    "else:\n",
    "    print(\"Error\")"
   ]
  }
 ],
 "metadata": {
  "kernelspec": {
   "display_name": "Python 3",
   "language": "python",
   "name": "python3"
  },
  "language_info": {
   "codemirror_mode": {
    "name": "ipython",
    "version": 3
   },
   "file_extension": ".py",
   "mimetype": "text/x-python",
   "name": "python",
   "nbconvert_exporter": "python",
   "pygments_lexer": "ipython3",
   "version": "3.10.13"
  }
 },
 "nbformat": 4,
 "nbformat_minor": 2
}
